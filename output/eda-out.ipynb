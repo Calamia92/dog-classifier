{
 "cells": [],
 "metadata": {
  "kernelspec": {
   "display_name": "base",
   "language": "python",
   "name": "python3"
  },
  "language_info": {
   "codemirror_mode": {
    "name": "ipython",
    "version": 3
   },
   "file_extension": ".py",
   "mimetype": "text/x-python",
   "name": "python",
   "nbconvert_exporter": "python",
   "pygments_lexer": "ipython3",
   "version": "3.13.2"
  },
  "papermill": {
   "default_parameters": {},
   "duration": 4.52815,
   "end_time": "2025-04-24T15:05:47.367010",
   "environment_variables": {},
   "exception": null,
   "input_path": "notebooks/eda.ipynb",
   "output_path": "output/eda-out.ipynb",
   "parameters": {},
   "start_time": "2025-04-24T15:05:42.838860",
   "version": "2.6.0"
  }
 },
 "nbformat": 4,
 "nbformat_minor": 5
}