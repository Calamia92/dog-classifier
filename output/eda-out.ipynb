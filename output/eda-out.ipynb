{
 "cells": [
  {
   "cell_type": "markdown",
   "id": "17f79114",
   "metadata": {},
   "source": [
    "# Charger VGG16 ou MobileNet sans le top\n",
    "Ajout d'une tête personnalisée pour 120 classes."
   ]
  },
  {
   "cell_type": "code",
   "execution_count": null,
   "id": "ad49d5f5",
   "metadata": {},
   "outputs": [],
   "source": [
    "from tensorflow.keras.applications import VGG16, MobileNet\n",
    "from tensorflow.keras.models import Sequential\n",
    "from tensorflow.keras.layers import GlobalAveragePooling2D, Dense, Dropout\n",
    "\n",
    "# Charger le modèle de base\n",
    "base_model = VGG16(weights='imagenet', include_top=False, input_shape=(224, 224, 3))\n",
    "base_model.trainable = False  # Geler les couches convolutionnelles\n",
    "\n",
    "# Ajouter une tête personnalisée\n",
    "model = Sequential([\n",
    "    base_model,\n",
    "    GlobalAveragePooling2D(),\n",
    "    Dropout(0.3),\n",
    "    Dense(256, activation='relu'),\n",
    "    Dropout(0.3),\n",
    "    Dense(120, activation='softmax')  # 120 classes\n",
    "])\n",
    "\n",
    "# Résumé du modèle\n",
    "model.summary()"
   ]
  }
 ],
 "metadata": {
  "kernelspec": {
   "display_name": "base",
   "language": "python",
   "name": "python3"
  },
  "language_info": {
   "codemirror_mode": {
    "name": "ipython",
    "version": 3
   },
   "file_extension": ".py",
   "mimetype": "text/x-python",
   "name": "python",
   "nbconvert_exporter": "python",
   "pygments_lexer": "ipython3",
   "version": "3.13.2"
  },
  "papermill": {
   "default_parameters": {},
   "duration": 4.52815,
   "end_time": "2025-04-24T15:05:47.367010",
   "environment_variables": {},
   "exception": null,
   "input_path": "notebooks/eda.ipynb",
   "output_path": "output/eda-out.ipynb",
   "parameters": {},
   "start_time": "2025-04-24T15:05:42.838860",
   "version": "2.6.0"
  }
 },
 "nbformat": 4,
 "nbformat_minor": 5
}
